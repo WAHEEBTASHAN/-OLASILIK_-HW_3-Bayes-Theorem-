{
  "nbformat": 4,
  "nbformat_minor": 0,
  "metadata": {
    "colab": {
      "name": "Bayes theorem.ipynb",
      "version": "0.3.2",
      "provenance": [],
      "collapsed_sections": [],
      "include_colab_link": true
    },
    "kernelspec": {
      "name": "python3",
      "display_name": "Python 3"
    }
  },
  "cells": [
    {
      "cell_type": "markdown",
      "metadata": {
        "id": "view-in-github",
        "colab_type": "text"
      },
      "source": [
        "<a href=\"https://colab.research.google.com/github/WAHEEBTASHAN/-OLASILIK_-HW_3-Bayes-Theorem-/blob/master/Bayes_theorem.ipynb\" target=\"_parent\"><img src=\"https://colab.research.google.com/assets/colab-badge.svg\" alt=\"Open In Colab\"/></a>"
      ]
    },
    {
      "metadata": {
        "id": "lVmtZYWktYgr",
        "colab_type": "text"
      },
      "cell_type": "markdown",
      "source": [
        ""
      ]
    },
    {
      "metadata": {
        "id": "YKwukleftai6",
        "colab_type": "text"
      },
      "cell_type": "markdown",
      "source": [
        "**BAYES THEOREM**\n",
        "\n",
        "Describes the probability of an event, based on prior knowledge of conditions that might be related to the event. For example, if cancer is related to age, then, using Bayes' theorem, a person's age can be used to more accurately assess the probability that they have cancer, compared to the assessment of the probability of cancer made without knowledge of the person's age.\n",
        "\n",
        "I am going to use the following Bayes theorem to solve the example chosen\n",
        "\n",
        "\n",
        "![alt text](https://github.com/WAHEEBTASHAN/-OLASILIK_-HW_3-Bayes-Theorem-/blob/master/bayes_theorem.2jpg.jpg?raw=true)**........................(1)**\n",
        "\n",
        "**Example:**\n",
        "\n",
        "**approximately 1 percent(1%) of women aged 40 to 50 have breast cancer. A women with breast cancer has a 90% chance of a positive test from a mammogram , while a women has  a 10 % chance of false positive  results.**\n",
        "**What is the probability  a women has breast cancer given that she just had a positive test? **\n",
        "\n",
        "***solution***\n",
        "\n",
        "I am going to figure out the probability that the women has a cancer given that the test result is positive \n",
        "\n",
        "**p(cancer/Positive)=?**\n",
        "\n",
        "At my presented example i assumed the following\n",
        "\n",
        "Let\n",
        "*   A= that the women have a cancer\n",
        "\n",
        "*    B = that the test is positive \n",
        "   \n",
        "The probability that the women aged (40-50) has a breast cancer is 0.01 so P(A)=0.01\n",
        "   \n",
        "The probability that the women have a cancer with positive test is 0.90\n",
        "   P(B/A)= 0.90\n",
        "   \n",
        "   The probability that the results is positive ( true positive or false positive ) = P(B)= 0.1080\n",
        "   \n",
        "   By using our Bayes theorem formula shown in equation (1)\n",
        "   \n",
        "      P(A/B)=(P(B/A)*P(A))/(P(B))........(1)\n",
        "      \n",
        "      P(A/B)=(P(positive /cancer)*P(cancer))/(P(positive))\n",
        "      \n",
        " \n",
        "   ![alt text](https://github.com/WAHEEBTASHAN/-OLASILIK_-HW_3-Bayes-Theorem-/blob/master/Bayes%20theorem.JPG?raw=true)\n",
        "\n",
        "I have constructed a tree in order to ease finding the results \n",
        "\n",
        "P(A/B)=(0.90*0.01) / ((0.01)*(0.90)+(0.99)*(0.10))=0.083= 8.3%\n",
        "\n",
        "So the the probability  a women has breast cancer given that she just had a positive test is 8.3 % only\n",
        "\n",
        "\n",
        "\n",
        "\n",
        "\n",
        "\n"
      ]
    },
    {
      "metadata": {
        "id": "xH-7_JU95v_S",
        "colab_type": "code",
        "outputId": "a2ed05f8-8e39-425f-d6b9-c9ac12124c82",
        "colab": {
          "base_uri": "https://localhost:8080/",
          "height": 51
        }
      },
      "cell_type": "code",
      "source": [
        "import math\n",
        "#Question\n",
        "# approximately 1 percent(1%) of women aged 40 to 50 have breast cancer.\n",
        "#A women with breast cancer has a 90% chance of a positive test from a mammogram ,\n",
        "#while a women has  a 10 % chance of false positive  results.\n",
        "#What is the probability  a women has breast cancer given that she just had a positive test?\n",
        "# Solution\n",
        "#Let A= that the women have a cancer\n",
        "      #B = that the test is positive\n",
        "\n",
        "#P(B/A)=0.90\n",
        "x=0.90 # The probability that the women have a cancer with positive test\n",
        "#P(A)= 0.01 \n",
        "y=0.01 # The probability that the women aged (40-50) has a breast cancer\n",
        "#P(B)= 0.1080\n",
        "z= 0.1080 # The probability that the test is positive at all conditions\n",
        "#P(A/B)=math.fabs (P(B/A)*P(A))/P(B)\n",
        "answer= math.fabs(x*y)/z\n",
        "print('the probability  a women has breast cancer given that she just had a positive test is: ',end=\"\")\n",
        "print(answer)\n",
        "print( 'In percentage the answer wil be :',answer*100)"
      ],
      "execution_count": 0,
      "outputs": [
        {
          "output_type": "stream",
          "text": [
            "the probability  a women has breast cancer given that she just had a positive test is: 0.08333333333333334\n",
            "In percentage the answer wil be : 8.333333333333334\n"
          ],
          "name": "stdout"
        }
      ]
    }
  ]
}